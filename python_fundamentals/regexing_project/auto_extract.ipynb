{
 "cells": [
  {
   "cell_type": "code",
   "execution_count": 15,
   "metadata": {},
   "outputs": [],
   "source": [
    "import glob\n",
    "import os\n",
    "import re\n",
    "\n",
    "import pandas as pd\n",
    "import fitz"
   ]
  },
  {
   "cell_type": "code",
   "execution_count": 16,
   "metadata": {},
   "outputs": [],
   "source": [
    "#functions\n",
    "def getiter_paths(doc_file): \n",
    "    reader_path = re.sub(r\"\\\\\", \"/\", str(os.getcwd())) + r\"\\\\\" + doc_file + r\"\\\\\"\n",
    "    iter = glob.iglob(reader_path + \"*.pdf\")\n",
    "    lst = glob.glob(reader_path + \"*.pdf\")\n",
    "    name_lst = [os.path.basename(i) for i in lst]\n",
    "    return lst, iter, name_lst"
   ]
  },
  {
   "cell_type": "code",
   "execution_count": 30,
   "metadata": {},
   "outputs": [
    {
     "name": "stdout",
     "output_type": "stream",
     "text": [
      "c:/Users/ELIZABETH CHENG/source/repos/robinn/Robinn/python_fundamentals/regexing_project\\\\reader\\olam_annual_report_2021.pdf\n",
      "None\n"
     ]
    }
   ],
   "source": [
    "lst, iter, name_lst = getiter_paths(\"reader\")\n",
    "for i in iter:\n",
    "    target = \"olam\"\n",
    "    if target in i:\n",
    "        olam_file = print(i)\n",
    "    else: \n",
    "        pass\n",
    "print(olam_file)"
   ]
  },
  {
   "cell_type": "code",
   "execution_count": 22,
   "metadata": {},
   "outputs": [
    {
     "name": "stdout",
     "output_type": "stream",
     "text": [
      "c:/Users/ELIZABETH CHENG/source/repos/robinn/Robinn/python_fundamentals/regexing_project\\\\reader\\20220613_JP_Morgan_-J.P._Morgan_Asia_FTM_9_June-_China_s_Financial_Market.pdf\n",
      "c:/Users/ELIZABETH CHENG/source/repos/robinn/Robinn/python_fundamentals/regexing_project\\\\reader\\20220613_JP_Morgan_-JPY_J.P._Morgan_International_FTM_8_Jun_22-_Vinci-_European.pdf\n",
      "c:/Users/ELIZABETH CHENG/source/repos/robinn/Robinn/python_fundamentals/regexing_project\\\\reader\\20220613_JP_Morgan_J.P._Morgan_ASEAN_FTM_9_Jun_22-_Thai_banks-_Rates_to_hel.pdf\n",
      "c:/Users/ELIZABETH CHENG/source/repos/robinn/Robinn/python_fundamentals/regexing_project\\\\reader\\20220614_JP_Morgan_CLCT-SP_SG_Property_Intelligence-_FHT_and_FPL_in_trading_halt.pdf\n",
      "c:/Users/ELIZABETH CHENG/source/repos/robinn/Robinn/python_fundamentals/regexing_project\\\\reader\\olam_annual_report_2021.pdf\n"
     ]
    }
   ],
   "source": []
  },
  {
   "cell_type": "code",
   "execution_count": null,
   "metadata": {},
   "outputs": [],
   "source": []
  }
 ],
 "metadata": {
  "kernelspec": {
   "display_name": "Python 3",
   "language": "python",
   "name": "python3"
  },
  "language_info": {
   "codemirror_mode": {
    "name": "ipython",
    "version": 3
   },
   "file_extension": ".py",
   "mimetype": "text/x-python",
   "name": "python",
   "nbconvert_exporter": "python",
   "pygments_lexer": "ipython3",
   "version": "3.10.0"
  },
  "orig_nbformat": 4,
  "vscode": {
   "interpreter": {
    "hash": "65f24222182f89b4157778dd71541b830443faf47bf1f8f5644b17735d53e956"
   }
  }
 },
 "nbformat": 4,
 "nbformat_minor": 2
}
