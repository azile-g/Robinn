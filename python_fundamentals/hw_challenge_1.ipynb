{
 "cells": [
  {
   "cell_type": "markdown",
   "metadata": {},
   "source": [
    "## Hello everybody! \n",
    "##### Thanks for joining us on today's homework challenge! 😃 Today we are going to explore different ways to print a diamond 💎💎. So the first way to do this is, of course, by typing out a diamond shape and print it directly. This can be done with the code below: "
   ]
  },
  {
   "cell_type": "code",
   "execution_count": 16,
   "metadata": {},
   "outputs": [
    {
     "name": "stdout",
     "output_type": "stream",
     "text": [
      "    \n",
      "    / \\    \n",
      "  /     \\\n",
      "/         \\\n",
      "\\         /\n",
      "  \\     /\n",
      "    \\ /        \n",
      "\n"
     ]
    }
   ],
   "source": [
    "#print a diamond by creating a string\n",
    "diamond_string = \"\"\"    \n",
    "    / \\\\    \n",
    "  /     \\\\\n",
    "/         \\\\\n",
    "\\\\         /\n",
    "  \\\\     /\n",
    "    \\\\ /        \n",
    "\"\"\"\n",
    "print(diamond_string)\n",
    "\n",
    "#QUESTION 1: Why do I need to type two backslashes in my string? (ie. \"\\\\\" will print only one backslash)\n",
    "#QUESTION 2: Can you try printing other shapes? Create your own code block below and test it out! "
   ]
  },
  {
   "cell_type": "markdown",
   "metadata": {},
   "source": [
    "## ⬆⬆ LEVEL UP ⬆⬆\n",
    "#### What if I didn't want to type out my diamond by hand.... Can I write code to do it for me? 🤔"
   ]
  },
  {
   "cell_type": "code",
   "execution_count": 48,
   "metadata": {},
   "outputs": [
    {
     "name": "stdout",
     "output_type": "stream",
     "text": [
      "12 6\n"
     ]
    }
   ],
   "source": [
    "#Let's first find out how large our three-by-three diamond needs to be \n",
    "width = int(2*(3*2))\n",
    "height = int(3+3)\n",
    "print(width, height)"
   ]
  },
  {
   "cell_type": "code",
   "execution_count": 117,
   "metadata": {},
   "outputs": [
    {
     "name": "stdout",
     "output_type": "stream",
     "text": [
      "[' ', ' ', ' ', ' ', ' ', ' ', ' ', ' ', ' ', ' ', ' ', ' ']\n",
      "[' ', ' ', ' ', ' ', ' ', ' ', ' ', ' ', ' ', ' ', ' ', ' ']\n",
      "[' ', ' ', ' ', ' ', ' ', ' ', ' ', ' ', ' ', ' ', ' ', ' ']\n",
      "[' ', ' ', ' ', ' ', ' ', ' ', ' ', ' ', ' ', ' ', ' ', ' ']\n",
      "[' ', ' ', ' ', ' ', ' ', ' ', ' ', ' ', ' ', ' ', ' ', ' ']\n",
      "[' ', ' ', ' ', ' ', ' ', ' ', ' ', ' ', ' ', ' ', ' ', ' ']\n"
     ]
    }
   ],
   "source": [
    "#The next step is to set the grid that we will draw our diamond on! \n",
    "#This is a 12 by 6 grid, as according to the width and height we calculated above\n",
    "grid = []\n",
    "for i in range(height): \n",
    "    temp_row = []\n",
    "    for j in range(width): \n",
    "        temp_row.append(\" \")\n",
    "    grid.append(temp_row)\n",
    "\n",
    "for i in grid: \n",
    "    print(i)"
   ]
  },
  {
   "cell_type": "code",
   "execution_count": 118,
   "metadata": {},
   "outputs": [
    {
     "name": "stdout",
     "output_type": "stream",
     "text": [
      "5 2\n",
      "[' ', ' ', ' ', ' ', ' ', '////', '\\\\\\\\', ' ', ' ', ' ', ' ', ' ']\n",
      "[' ', ' ', ' ', ' ', '////', ' ', ' ', '\\\\\\\\', ' ', ' ', ' ', ' ']\n",
      "[' ', ' ', ' ', '////', ' ', ' ', ' ', ' ', '\\\\\\\\', ' ', ' ', ' ']\n",
      "[' ', ' ', ' ', '\\\\\\\\', ' ', ' ', ' ', ' ', '////', ' ', ' ', ' ']\n",
      "[' ', ' ', ' ', ' ', '\\\\\\\\', ' ', ' ', '////', ' ', ' ', ' ', ' ']\n",
      "[' ', ' ', ' ', ' ', ' ', '\\\\\\\\', '////', ' ', ' ', ' ', ' ', ' ']\n"
     ]
    }
   ],
   "source": [
    "#The next step is to draw our diamond! \n",
    "x_switch = int(width/2-1)\n",
    "y_switch = int(height/2-1)\n",
    "j = 1\n",
    "print(x_switch, y_switch)\n",
    "for i, ialue in enumerate(grid): \n",
    "    if i <= y_switch: \n",
    "        ialue[int(x_switch)] = \"////\"\n",
    "        ialue[int(x_switch+j)] = \"\\\\\\\\\"\n",
    "        x_switch -= 1\n",
    "        j += 2\n",
    "    else: \n",
    "        x_switch += 1\n",
    "        j -= 2\n",
    "        ialue[int(x_switch)] = \"\\\\\\\\\"\n",
    "        ialue[int(x_switch+j)] = \"////\"\n",
    "    print(ialue)"
   ]
  },
  {
   "cell_type": "code",
   "execution_count": 120,
   "metadata": {},
   "outputs": [
    {
     "name": "stdout",
     "output_type": "stream",
     "text": [
      "abcdef\n",
      "['b', 'c']\n"
     ]
    }
   ],
   "source": [
    "#QUESTION 1: What if I wanted to print the whole grid as one string? \n",
    "#HINT BELOW: Try exploring how to concatenate lists into one string, then print the grid row by row\n",
    "example_list = [\"a\", \"b\", \"c\", \"d\", \"e\", \"f\"]\n",
    "example_string = \"\"\n",
    "for i in example_list: \n",
    "    example_string = example_string + i\n",
    "print(example_string)\n",
    "\n",
    "#QUESTION 2: What if I wanted to fill in the diamond? How would you modify the code to print a filled-in diamond? \n",
    "#HINT BELOW: Try exploring ways to access multiple elements int he list at the same time! \n",
    "example_list = [\"a\", \"b\", \"c\", \"d\", \"e\", \"f\"]\n",
    "print(example_list[1:3])"
   ]
  },
  {
   "cell_type": "markdown",
   "metadata": {},
   "source": [
    "## ⬆⬆ LEVEL UP AGAIN ⬆⬆\n",
    "#### Last and final boss level for this worksheet 😈 What if I wanted to be able to print out: \n",
    "#### 1) A 💎diamond💎 with length of any value\n",
    "#### 2) Have a grid width of any value\n",
    "#### How can we go about doing that? Let's try it 🤓 We will go about this with <b> User Defined Functions </b>. For now, the function is already written below, and we will go through this next lesson. \n",
    "#### For today's homework, let's focus on how to <b>USE</b> these functions. "
   ]
  },
  {
   "cell_type": "code",
   "execution_count": 152,
   "metadata": {},
   "outputs": [
    {
     "name": "stdout",
     "output_type": "stream",
     "text": [
      "[' ', ' ', ' ', '////', '\\\\\\\\', ' ', ' ', ' ']\n",
      "[' ', ' ', '////', ' ', ' ', '\\\\\\\\', ' ', ' ']\n",
      "[' ', '////', ' ', ' ', ' ', ' ', '\\\\\\\\', ' ']\n",
      "['////', ' ', ' ', ' ', ' ', ' ', ' ', '\\\\\\\\']\n",
      "['\\\\\\\\', ' ', ' ', ' ', ' ', ' ', ' ', '////']\n",
      "[' ', '\\\\\\\\', ' ', ' ', ' ', ' ', '////', ' ']\n",
      "[' ', ' ', '\\\\\\\\', ' ', ' ', '////', ' ', ' ']\n",
      "[' ', ' ', ' ', '\\\\\\\\', '////', ' ', ' ', ' ']\n",
      "[' ', ' ', ' ', ' ', ' ', ' ', ' ', '////', '\\\\\\\\', ' ', ' ', ' ', ' ', ' ', ' ', ' ']\n",
      "[' ', ' ', ' ', ' ', ' ', ' ', '////', ' ', ' ', '\\\\\\\\', ' ', ' ', ' ', ' ', ' ', ' ']\n",
      "[' ', ' ', ' ', ' ', ' ', '////', ' ', ' ', ' ', ' ', '\\\\\\\\', ' ', ' ', ' ', ' ', ' ']\n",
      "[' ', ' ', ' ', ' ', '////', ' ', ' ', ' ', ' ', ' ', ' ', '\\\\\\\\', ' ', ' ', ' ', ' ']\n",
      "[' ', ' ', ' ', ' ', '\\\\\\\\', ' ', ' ', ' ', ' ', ' ', ' ', '////', ' ', ' ', ' ', ' ']\n",
      "[' ', ' ', ' ', ' ', ' ', '\\\\\\\\', ' ', ' ', ' ', ' ', '////', ' ', ' ', ' ', ' ', ' ']\n",
      "[' ', ' ', ' ', ' ', ' ', ' ', '\\\\\\\\', ' ', ' ', '////', ' ', ' ', ' ', ' ', ' ', ' ']\n",
      "[' ', ' ', ' ', ' ', ' ', ' ', ' ', '\\\\\\\\', '////', ' ', ' ', ' ', ' ', ' ', ' ', ' ']\n"
     ]
    }
   ],
   "source": [
    "#Let's explore the world of user-defined functions! \n",
    "#Don't worry, next lesson I will go through what the syntax means. \n",
    "#But for now, let's learn how to use the function!\n",
    "\n",
    "def draw_diamond(width, diamond_length): \n",
    "    grid_width = int(2*(width*2))\n",
    "    grid_height = int(diamond_length+diamond_length)\n",
    "    grid = []\n",
    "    for i in range(grid_height): \n",
    "        temp_row = []\n",
    "        for j in range(grid_width): \n",
    "            temp_row.append(\" \")\n",
    "        grid.append(temp_row)\n",
    "    x_switch = int(grid_width/2-1)\n",
    "    y_switch = int(grid_height/2-1)\n",
    "    j = 1\n",
    "    for i, ialue in enumerate(grid): \n",
    "        if i <= y_switch: \n",
    "            ialue[int(x_switch)] = \"////\"\n",
    "            ialue[int(x_switch+j)] = \"\\\\\\\\\"\n",
    "            x_switch -= 1\n",
    "            j += 2\n",
    "        else: \n",
    "            x_switch += 1\n",
    "            j -= 2\n",
    "            ialue[int(x_switch)] = \"\\\\\\\\\"\n",
    "            ialue[int(x_switch+j)] = \"////\"\n",
    "        print(ialue)\n",
    "    return grid\n",
    "\n",
    "#Here, notice how the function is being called to draw a diamond with length 4\n",
    "diamond_grid = draw_diamond(2, 4)\n",
    "#Now let's do it with a wider grid \n",
    "wide_grid = draw_diamond(4, 4)\n",
    "\n",
    "#QUESTION 1: What if I would like a diamond with length 5? What if I want a diamond with length 5, in a larger grid? \n",
    "#HINT: Adjust the code, which gives a 3 by 4 diamond to this: diamond_grid = draw_diamond(3, 5)\n"
   ]
  },
  {
   "cell_type": "markdown",
   "metadata": {},
   "source": [
    "## Last bonus question! \n",
    "#### Try exploring methods to print out different shapes. Pick any, and see if you can write out any pseudo-code to do it! \n",
    "#### Pseudo-code refers to writing out logic, but the code does not need to run! Just try to express the logic which you would use to draw different shapes 😃🐶 Give it a go, but most importantly, have fun with it! \n",
    "#### See you guys next week 😊✌"
   ]
  },
  {
   "cell_type": "markdown",
   "metadata": {},
   "source": [
    "Write your pseudo-code here! Don't worry about running it, or making it correct. JUst spell your logic out, and we will go through how to make it work next lesson! See yalls : D \n",
    "\n"
   ]
  }
 ],
 "metadata": {
  "kernelspec": {
   "display_name": "Python 3.10.0 64-bit",
   "language": "python",
   "name": "python3"
  },
  "language_info": {
   "codemirror_mode": {
    "name": "ipython",
    "version": 3
   },
   "file_extension": ".py",
   "mimetype": "text/x-python",
   "name": "python",
   "nbconvert_exporter": "python",
   "pygments_lexer": "ipython3",
   "version": "3.10.0"
  },
  "orig_nbformat": 4,
  "vscode": {
   "interpreter": {
    "hash": "65f24222182f89b4157778dd71541b830443faf47bf1f8f5644b17735d53e956"
   }
  }
 },
 "nbformat": 4,
 "nbformat_minor": 2
}
