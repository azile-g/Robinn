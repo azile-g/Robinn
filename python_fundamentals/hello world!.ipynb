{
 "cells": [
  {
   "cell_type": "code",
   "execution_count": 2,
   "metadata": {},
   "outputs": [],
   "source": [
    "from IPython.display import Markdown as md\n",
    "import os"
   ]
  },
  {
   "cell_type": "code",
   "execution_count": 3,
   "metadata": {},
   "outputs": [
    {
     "data": {
      "text/markdown": [
       "\n",
       "    Hello ELIZABETH CHENG! Welcome to the world of computing 😃\n",
       "    As with any proper introduction, we will begin by writing a simple \"hello world!\" statement. \n",
       "    "
      ],
      "text/plain": [
       "<IPython.core.display.Markdown object>"
      ]
     },
     "execution_count": 3,
     "metadata": {},
     "output_type": "execute_result"
    }
   ],
   "source": [
    "md(f\"\"\"\n",
    "    Hello {os.getlogin()}! Welcome to the world of computing 😃\n",
    "    As with any proper introduction, we will begin by writing a simple \"hello world!\" statement. \n",
    "    \"\"\")"
   ]
  },
  {
   "cell_type": "code",
   "execution_count": 28,
   "metadata": {},
   "outputs": [
    {
     "name": "stdout",
     "output_type": "stream",
     "text": [
      "hello world!\n"
     ]
    }
   ],
   "source": [
    "#Run the cell below to print your string to console \n",
    "print(\"hello world!\")"
   ]
  },
  {
   "cell_type": "code",
   "execution_count": 7,
   "metadata": {},
   "outputs": [
    {
     "data": {
      "text/markdown": [
       "\n",
       "    Nice! We've managed to print hello world, but how do we access \"hello world\"? \n",
       "    We do this by assignment. \n",
       "    "
      ],
      "text/plain": [
       "<IPython.core.display.Markdown object>"
      ]
     },
     "execution_count": 7,
     "metadata": {},
     "output_type": "execute_result"
    }
   ],
   "source": [
    "md(f\"\"\"\n",
    "    Nice! We've managed to print hello world, but how do we access \"hello world\"? \n",
    "    We do this by assignment. \n",
    "    \"\"\")"
   ]
  },
  {
   "cell_type": "code",
   "execution_count": 8,
   "metadata": {},
   "outputs": [],
   "source": [
    "#try printing hello world again, but with the assigned variable instead\n",
    "variable_1 = \"hello world!\"\n",
    "\n",
    "#write your print statement below here:\n",
    "\n",
    "#What about multiple lines of text? How should we do that? \n"
   ]
  },
  {
   "cell_type": "code",
   "execution_count": 9,
   "metadata": {},
   "outputs": [
    {
     "data": {
      "text/markdown": [
       "\n",
       "    Notice how the print statements are the same - variable_1 is assigned to the string value \"hello world!\". This allows us to do more than \n",
       "    just printing. String operations can allow us to manipulate strings. \n",
       "\n",
       "    The ones we will learn today are: \n",
       "    1) Slicing \n",
       "    2) Concatenation \n",
       "    "
      ],
      "text/plain": [
       "<IPython.core.display.Markdown object>"
      ]
     },
     "execution_count": 9,
     "metadata": {},
     "output_type": "execute_result"
    }
   ],
   "source": [
    "md(f\"\"\"\n",
    "    Notice how the print statements are the same - variable_1 is assigned to the string value \"hello world!\". This allows us to do more than \n",
    "    just printing. String operations can allow us to manipulate strings. \n",
    "\n",
    "    The ones we will learn today are: \n",
    "    1) Slicing \n",
    "    2) Concatenation \n",
    "    \"\"\")"
   ]
  },
  {
   "cell_type": "code",
   "execution_count": 10,
   "metadata": {},
   "outputs": [
    {
     "name": "stdout",
     "output_type": "stream",
     "text": [
      "hel\n",
      "hello world! hel\n"
     ]
    }
   ],
   "source": [
    "#Slicing \n",
    "variable_sliced = variable_1[:3]\n",
    "print(variable_sliced)\n",
    "\n",
    "#Concatenation\n",
    "variable_concat = variable_1 + \" \" + variable_sliced\n",
    "print(variable_concat)"
   ]
  },
  {
   "cell_type": "code",
   "execution_count": 15,
   "metadata": {},
   "outputs": [
    {
     "data": {
      "text/markdown": [
       "\n",
       "    What do you notice? \n",
       "    \n",
       "    Two things to take note of in most programming languages:\n",
       "    1) Zero-based indexing \n",
       "    2) End index is not included! \n",
       "    \n",
       "    And this is true for other indexing operations that we will encounter later in class 😃 \n",
       "    So keep this concept in mind as we move forward!\n",
       "    "
      ],
      "text/plain": [
       "<IPython.core.display.Markdown object>"
      ]
     },
     "execution_count": 15,
     "metadata": {},
     "output_type": "execute_result"
    }
   ],
   "source": [
    "md(f\"\"\"\n",
    "    What do you notice? \n",
    "    \n",
    "    Two things to take note of in most programming languages:\n",
    "    1) Zero-based indexing \n",
    "    2) End index is not included! \n",
    "    \n",
    "    And this is true for other indexing operations that we will encounter later in class 😃 \n",
    "    So keep this concept in mind as we move forward!\n",
    "    \"\"\")"
   ]
  },
  {
   "cell_type": "code",
   "execution_count": 16,
   "metadata": {},
   "outputs": [],
   "source": [
    "#what if we would like to store multiple objects in a variable? \n",
    "list_var = [0, 1, \"hi again!\", [\"hi\", 3, 4]]\n",
    "dictionary_var = {0: \"hi!\", 1: \"it's\", 2: \"meeee\", 3: \"im the problem\", 4: \"it's meeee\"}\n",
    "\n",
    "#How do we access items in our data structure? \n",
    "list_item = list_var[0]\n",
    "dict_item = dictionary_var[0]"
   ]
  },
  {
   "cell_type": "code",
   "execution_count": 18,
   "metadata": {},
   "outputs": [
    {
     "name": "stdout",
     "output_type": "stream",
     "text": [
      "[0, 1, 2, 3, 4, 5, 6, 7, 8, 9, 10, 11, 12, 13, 14, 15, 16, 17, 18, 19, 20, 21, 22, 23, 24, 25, 26, 27, 28, 29, 30, 31, 32, 33, 34, 35, 36, 37, 38, 39, 40, 41, 42, 43, 44, 45, 46, 47, 48, 49, 50, 51, 52, 53, 54, 55, 56, 57, 58, 59, 60, 61, 62, 63, 64, 65, 66, 67, 68, 69, 70, 71, 72, 73, 74, 75, 76, 77, 78, 79, 80, 81, 82, 83, 84, 85, 86, 87, 88, 89, 90, 91, 92, 93, 94, 95, 96, 97, 98, 99, 100]\n"
     ]
    }
   ],
   "source": [
    "#What if ... we needed a list of one hundred numbers? One hundred words?\n",
    "one_hundred = []\n",
    "for i in range(101): \n",
    "    one_hundred.append(i)\n",
    "print(one_hundred)"
   ]
  },
  {
   "cell_type": "code",
   "execution_count": 20,
   "metadata": {},
   "outputs": [
    {
     "name": "stdout",
     "output_type": "stream",
     "text": [
      "[0, 1, 2, 3, 4, 5, 6, 7, 8, 9, 10, 11, 12, 13, 14, 15, 16, 17, 18, 19, 20, 21, 22, 23, 24, 25, 26, 27, 28, 29, 30, 31, 32, 33, 34, 35, 36, 37, 38, 39, 40, 41, 42, 43, 44, 45, 46, 47, 48, 49, 50, 51, 52, 53, 54, 55, 56, 57, 58, 59, 60, 61, 62, 63, 64, 65, 66, 67, 68, 69, 70, 71, 72, 73, 74, 75, 76, 77, 78, 79, 80, 81, 82, 83, 84, 85, 86, 87, 88, 89, 90, 91, 92, 93, 94, 95, 96, 97, 98, 99, 100]\n"
     ]
    }
   ],
   "source": [
    "one_hundred = []\n",
    "i = 0\n",
    "while len(one_hundred) < 101: \n",
    "    one_hundred.append(i)\n",
    "    i += 1\n",
    "print(one_hundred)"
   ]
  },
  {
   "cell_type": "code",
   "execution_count": 23,
   "metadata": {},
   "outputs": [
    {
     "data": {
      "text/markdown": [
       "\n",
       "    Let's take it step by step! \n",
       "\n",
       "    The first piece of code is a \"for loop\", the second one is a \"while\" loop. \n",
       "    The key difference is that for loops require an iterator, and while loops are based off \n",
       "    satisfying a condition that you set. \n",
       "\n",
       "    In the next part, we'll be looking deeper into the concept of conditionals, and flow control.\n",
       "    "
      ],
      "text/plain": [
       "<IPython.core.display.Markdown object>"
      ]
     },
     "execution_count": 23,
     "metadata": {},
     "output_type": "execute_result"
    }
   ],
   "source": [
    "md(f\"\"\"\n",
    "    Let's take it step by step! \n",
    "\n",
    "    The first piece of code is a \"for loop\", the second one is a \"while\" loop. \n",
    "    The key difference is that for loops require an iterator, and while loops are based off \n",
    "    satisfying a condition that you set. \n",
    "\n",
    "    In the next part, we'll be looking deeper into the concept of conditionals, and flow control.\n",
    "    \"\"\")"
   ]
  },
  {
   "cell_type": "code",
   "execution_count": 27,
   "metadata": {},
   "outputs": [
    {
     "name": "stdout",
     "output_type": "stream",
     "text": [
      "[0, 2, 4, 6, 8, 10, 12, 14, 16, 18, 20, 22, 24, 26, 28, 30, 32, 34, 36, 38, 40, 42, 44, 46, 48, 50, 52, 54, 56, 58, 60, 62, 64, 66, 68, 70, 72, 74, 76, 78, 80, 82, 84, 86, 88, 90, 92, 94, 96, 98, 100]\n"
     ]
    }
   ],
   "source": [
    "#let's say instead of having all numbers from 0 to 100, let's have only even numbers! \n",
    "even = []\n",
    "for i in range(101): \n",
    "    if i // 2 == i / 2: \n",
    "        even.append(i)\n",
    "print(even)"
   ]
  }
 ],
 "metadata": {
  "kernelspec": {
   "display_name": "Python 3.10.0 64-bit",
   "language": "python",
   "name": "python3"
  },
  "language_info": {
   "codemirror_mode": {
    "name": "ipython",
    "version": 3
   },
   "file_extension": ".py",
   "mimetype": "text/x-python",
   "name": "python",
   "nbconvert_exporter": "python",
   "pygments_lexer": "ipython3",
   "version": "3.10.0"
  },
  "orig_nbformat": 4,
  "vscode": {
   "interpreter": {
    "hash": "65f24222182f89b4157778dd71541b830443faf47bf1f8f5644b17735d53e956"
   }
  }
 },
 "nbformat": 4,
 "nbformat_minor": 2
}
