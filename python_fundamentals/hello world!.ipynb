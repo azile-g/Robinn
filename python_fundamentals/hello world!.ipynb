{
 "cells": [
  {
   "cell_type": "code",
   "execution_count": 1,
   "metadata": {},
   "outputs": [],
   "source": [
    "from IPython.display import Markdown as md\n",
    "import os"
   ]
  },
  {
   "cell_type": "code",
   "execution_count": 4,
   "metadata": {},
   "outputs": [
    {
     "data": {
      "text/markdown": [
       "\n",
       "    Hello ELIZABETH CHENG! Welcome to the world of computing 😃\n",
       "    As with any proper introduction, we will begin by writing a simple \"hello world!\" statement. \n",
       "    "
      ],
      "text/plain": [
       "<IPython.core.display.Markdown object>"
      ]
     },
     "execution_count": 4,
     "metadata": {},
     "output_type": "execute_result"
    }
   ],
   "source": [
    "md(f\"\"\"\n",
    "    Hello {os.getlogin()}! Welcome to the world of computing 😃\n",
    "    As with any proper introduction, we will begin by writing a simple \"hello world!\" statement. \n",
    "    \"\"\")"
   ]
  },
  {
   "cell_type": "code",
   "execution_count": 5,
   "metadata": {},
   "outputs": [
    {
     "name": "stdout",
     "output_type": "stream",
     "text": [
      "hello world!\n"
     ]
    }
   ],
   "source": [
    "#Run the cell below to print your string to console \n",
    "print(\"hello world!\")"
   ]
  },
  {
   "cell_type": "code",
   "execution_count": 6,
   "metadata": {},
   "outputs": [
    {
     "data": {
      "text/markdown": [
       "\n",
       "    Nice! We've managed to print hello world, but how do we access \"hello world\"? \n",
       "    We do this by assignment. \n",
       "    "
      ],
      "text/plain": [
       "<IPython.core.display.Markdown object>"
      ]
     },
     "execution_count": 6,
     "metadata": {},
     "output_type": "execute_result"
    }
   ],
   "source": [
    "md(f\"\"\"\n",
    "    Nice! We've managed to print hello world, but how do we access \"hello world\"? \n",
    "    We do this by assignment. \n",
    "    \"\"\")"
   ]
  },
  {
   "cell_type": "code",
   "execution_count": 9,
   "metadata": {},
   "outputs": [],
   "source": [
    "#try printing hello world again, but with the assigned variable instead\n",
    "variable_1 = \"hello world!\"\n",
    "#write your print statement below here:\n"
   ]
  },
  {
   "cell_type": "code",
   "execution_count": 13,
   "metadata": {},
   "outputs": [
    {
     "data": {
      "text/markdown": [
       "\n",
       "    Notice how the print statements are the same - variable_1 is assigned to the string value \"hello world!\". This allows us to do more than \n",
       "    just printing. String operations can allow us to manipulate strings. \n",
       "\n",
       "    The ones we will learn today are: \n",
       "    1) Slicing \n",
       "    2) Concatenation \n",
       "    "
      ],
      "text/plain": [
       "<IPython.core.display.Markdown object>"
      ]
     },
     "execution_count": 13,
     "metadata": {},
     "output_type": "execute_result"
    }
   ],
   "source": [
    "md(f\"\"\"\n",
    "    Notice how the print statements are the same - variable_1 is assigned to the string value \"hello world!\". This allows us to do more than \n",
    "    just printing. String operations can allow us to manipulate strings. \n",
    "\n",
    "    The ones we will learn today are: \n",
    "    1) Slicing \n",
    "    2) Concatenation \n",
    "    \"\"\")"
   ]
  },
  {
   "cell_type": "code",
   "execution_count": 15,
   "metadata": {},
   "outputs": [
    {
     "name": "stdout",
     "output_type": "stream",
     "text": [
      "hel\n",
      "hello world! hel\n"
     ]
    }
   ],
   "source": [
    "#Slicing \n",
    "variable_sliced = variable_1[:3]\n",
    "print(variable_sliced)\n",
    "\n",
    "#Concatenation\n",
    "variable_concat = variable_1 + \" \" + variable_sliced\n",
    "print(variable_concat)"
   ]
  },
  {
   "cell_type": "code",
   "execution_count": null,
   "metadata": {},
   "outputs": [],
   "source": []
  }
 ],
 "metadata": {
  "kernelspec": {
   "display_name": "Python 3.8.5 ('base')",
   "language": "python",
   "name": "python3"
  },
  "language_info": {
   "codemirror_mode": {
    "name": "ipython",
    "version": 3
   },
   "file_extension": ".py",
   "mimetype": "text/x-python",
   "name": "python",
   "nbconvert_exporter": "python",
   "pygments_lexer": "ipython3",
   "version": "3.8.5"
  },
  "orig_nbformat": 4,
  "vscode": {
   "interpreter": {
    "hash": "4bff54381645a63e99071babd6d6003962272887be73fcafefcae22e4354bd48"
   }
  }
 },
 "nbformat": 4,
 "nbformat_minor": 2
}
